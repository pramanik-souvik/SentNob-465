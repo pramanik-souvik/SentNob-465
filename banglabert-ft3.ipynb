{
 "cells": [
  {
   "cell_type": "code",
   "execution_count": 5,
   "id": "73f82417",
   "metadata": {},
   "outputs": [
    {
     "name": "stderr",
     "output_type": "stream",
     "text": [
      "Map: 100%|██████████| 12575/12575 [00:00<00:00, 916272.13 examples/s]\n",
      "Map: 100%|██████████| 1567/1567 [00:00<00:00, 377273.08 examples/s]\n",
      "Map: 100%|██████████| 1586/1586 [00:00<00:00, 445915.41 examples/s]\n",
      "Map:   0%|          | 0/12575 [00:00<?, ? examples/s]Asking to pad to max_length but no maximum length is provided and the model has no predefined maximum length. Default to no padding.\n",
      "Asking to truncate to max_length but no maximum length is provided and the model has no predefined maximum length. Default to no truncation.\n",
      "Map: 100%|██████████| 12575/12575 [00:00<00:00, 65701.89 examples/s]\n",
      "Map: 100%|██████████| 1567/1567 [00:00<00:00, 56561.25 examples/s]\n",
      "Map: 100%|██████████| 1586/1586 [00:00<00:00, 63140.49 examples/s]\n",
      "Map: 100%|██████████| 12575/12575 [00:01<00:00, 7746.29 examples/s]\n",
      "Map: 100%|██████████| 1567/1567 [00:00<00:00, 9033.91 examples/s]\n",
      "Map: 100%|██████████| 1586/1586 [00:00<00:00, 9031.85 examples/s]\n"
     ]
    },
    {
     "name": "stdout",
     "output_type": "stream",
     "text": [
      "Training banglabert_model_1...\n"
     ]
    },
    {
     "name": "stderr",
     "output_type": "stream",
     "text": [
      "Some weights of ElectraForSequenceClassification were not initialized from the model checkpoint at csebuetnlp/banglabert and are newly initialized: ['classifier.dense.bias', 'classifier.dense.weight', 'classifier.out_proj.bias', 'classifier.out_proj.weight']\n",
      "You should probably TRAIN this model on a down-stream task to be able to use it for predictions and inference.\n",
      "c:\\Users\\USERAS\\anaconda3\\envs\\resPy\\Lib\\site-packages\\transformers\\training_args.py:1575: FutureWarning: `evaluation_strategy` is deprecated and will be removed in version 4.46 of 🤗 Transformers. Use `eval_strategy` instead\n",
      "  warnings.warn(\n",
      "C:\\Users\\USERAS\\AppData\\Local\\Temp\\ipykernel_12460\\930621584.py:97: FutureWarning: `tokenizer` is deprecated and will be removed in version 5.0.0 for `Trainer.__init__`. Use `processing_class` instead.\n",
      "  trainer = Trainer(\n"
     ]
    },
    {
     "data": {
      "text/html": [
       "\n",
       "    <div>\n",
       "      \n",
       "      <progress value='3144' max='7860' style='width:300px; height:20px; vertical-align: middle;'></progress>\n",
       "      [3144/7860 02:48 < 04:12, 18.68 it/s, Epoch 4/10]\n",
       "    </div>\n",
       "    <table border=\"1\" class=\"dataframe\">\n",
       "  <thead>\n",
       " <tr style=\"text-align: left;\">\n",
       "      <th>Epoch</th>\n",
       "      <th>Training Loss</th>\n",
       "      <th>Validation Loss</th>\n",
       "      <th>Accuracy</th>\n",
       "      <th>F1</th>\n",
       "    </tr>\n",
       "  </thead>\n",
       "  <tbody>\n",
       "    <tr>\n",
       "      <td>1</td>\n",
       "      <td>0.789400</td>\n",
       "      <td>0.649721</td>\n",
       "      <td>0.726228</td>\n",
       "      <td>0.696579</td>\n",
       "    </tr>\n",
       "    <tr>\n",
       "      <td>2</td>\n",
       "      <td>0.545900</td>\n",
       "      <td>0.634153</td>\n",
       "      <td>0.751755</td>\n",
       "      <td>0.733841</td>\n",
       "    </tr>\n",
       "    <tr>\n",
       "      <td>3</td>\n",
       "      <td>0.395900</td>\n",
       "      <td>0.702848</td>\n",
       "      <td>0.753669</td>\n",
       "      <td>0.757066</td>\n",
       "    </tr>\n",
       "    <tr>\n",
       "      <td>4</td>\n",
       "      <td>0.252500</td>\n",
       "      <td>0.823529</td>\n",
       "      <td>0.759413</td>\n",
       "      <td>0.757115</td>\n",
       "    </tr>\n",
       "  </tbody>\n",
       "</table><p>"
      ],
      "text/plain": [
       "<IPython.core.display.HTML object>"
      ]
     },
     "metadata": {},
     "output_type": "display_data"
    },
    {
     "name": "stdout",
     "output_type": "stream",
     "text": [
      "Training roberta_model_1...\n"
     ]
    },
    {
     "name": "stderr",
     "output_type": "stream",
     "text": [
      "Some weights of RobertaForSequenceClassification were not initialized from the model checkpoint at roberta-base and are newly initialized: ['classifier.dense.bias', 'classifier.dense.weight', 'classifier.out_proj.bias', 'classifier.out_proj.weight']\n",
      "You should probably TRAIN this model on a down-stream task to be able to use it for predictions and inference.\n",
      "c:\\Users\\USERAS\\anaconda3\\envs\\resPy\\Lib\\site-packages\\transformers\\training_args.py:1575: FutureWarning: `evaluation_strategy` is deprecated and will be removed in version 4.46 of 🤗 Transformers. Use `eval_strategy` instead\n",
      "  warnings.warn(\n",
      "C:\\Users\\USERAS\\AppData\\Local\\Temp\\ipykernel_12460\\930621584.py:97: FutureWarning: `tokenizer` is deprecated and will be removed in version 5.0.0 for `Trainer.__init__`. Use `processing_class` instead.\n",
      "  trainer = Trainer(\n"
     ]
    },
    {
     "data": {
      "text/html": [
       "\n",
       "    <div>\n",
       "      \n",
       "      <progress value='4716' max='7860' style='width:300px; height:20px; vertical-align: middle;'></progress>\n",
       "      [4716/7860 23:06 < 15:24, 3.40 it/s, Epoch 6/10]\n",
       "    </div>\n",
       "    <table border=\"1\" class=\"dataframe\">\n",
       "  <thead>\n",
       " <tr style=\"text-align: left;\">\n",
       "      <th>Epoch</th>\n",
       "      <th>Training Loss</th>\n",
       "      <th>Validation Loss</th>\n",
       "      <th>Accuracy</th>\n",
       "      <th>F1</th>\n",
       "    </tr>\n",
       "  </thead>\n",
       "  <tbody>\n",
       "    <tr>\n",
       "      <td>1</td>\n",
       "      <td>1.076100</td>\n",
       "      <td>1.071806</td>\n",
       "      <td>0.397575</td>\n",
       "      <td>0.226200</td>\n",
       "    </tr>\n",
       "    <tr>\n",
       "      <td>2</td>\n",
       "      <td>1.076400</td>\n",
       "      <td>1.072497</td>\n",
       "      <td>0.397575</td>\n",
       "      <td>0.226200</td>\n",
       "    </tr>\n",
       "    <tr>\n",
       "      <td>3</td>\n",
       "      <td>1.075600</td>\n",
       "      <td>1.071640</td>\n",
       "      <td>0.397575</td>\n",
       "      <td>0.226200</td>\n",
       "    </tr>\n",
       "    <tr>\n",
       "      <td>4</td>\n",
       "      <td>1.075000</td>\n",
       "      <td>1.070991</td>\n",
       "      <td>0.397575</td>\n",
       "      <td>0.226200</td>\n",
       "    </tr>\n",
       "    <tr>\n",
       "      <td>5</td>\n",
       "      <td>1.073900</td>\n",
       "      <td>1.072482</td>\n",
       "      <td>0.397575</td>\n",
       "      <td>0.226200</td>\n",
       "    </tr>\n",
       "    <tr>\n",
       "      <td>6</td>\n",
       "      <td>1.076400</td>\n",
       "      <td>1.073216</td>\n",
       "      <td>0.397575</td>\n",
       "      <td>0.226200</td>\n",
       "    </tr>\n",
       "  </tbody>\n",
       "</table><p>"
      ],
      "text/plain": [
       "<IPython.core.display.HTML object>"
      ]
     },
     "metadata": {},
     "output_type": "display_data"
    },
    {
     "name": "stdout",
     "output_type": "stream",
     "text": [
      "Training banglabert_model_2...\n"
     ]
    },
    {
     "name": "stderr",
     "output_type": "stream",
     "text": [
      "Some weights of ElectraForSequenceClassification were not initialized from the model checkpoint at csebuetnlp/banglabert and are newly initialized: ['classifier.dense.bias', 'classifier.dense.weight', 'classifier.out_proj.bias', 'classifier.out_proj.weight']\n",
      "You should probably TRAIN this model on a down-stream task to be able to use it for predictions and inference.\n",
      "c:\\Users\\USERAS\\anaconda3\\envs\\resPy\\Lib\\site-packages\\transformers\\training_args.py:1575: FutureWarning: `evaluation_strategy` is deprecated and will be removed in version 4.46 of 🤗 Transformers. Use `eval_strategy` instead\n",
      "  warnings.warn(\n",
      "C:\\Users\\USERAS\\AppData\\Local\\Temp\\ipykernel_12460\\930621584.py:97: FutureWarning: `tokenizer` is deprecated and will be removed in version 5.0.0 for `Trainer.__init__`. Use `processing_class` instead.\n",
      "  trainer = Trainer(\n"
     ]
    },
    {
     "data": {
      "text/html": [
       "\n",
       "    <div>\n",
       "      \n",
       "      <progress value='3144' max='7860' style='width:300px; height:20px; vertical-align: middle;'></progress>\n",
       "      [3144/7860 02:48 < 04:12, 18.67 it/s, Epoch 4/10]\n",
       "    </div>\n",
       "    <table border=\"1\" class=\"dataframe\">\n",
       "  <thead>\n",
       " <tr style=\"text-align: left;\">\n",
       "      <th>Epoch</th>\n",
       "      <th>Training Loss</th>\n",
       "      <th>Validation Loss</th>\n",
       "      <th>Accuracy</th>\n",
       "      <th>F1</th>\n",
       "    </tr>\n",
       "  </thead>\n",
       "  <tbody>\n",
       "    <tr>\n",
       "      <td>1</td>\n",
       "      <td>0.794000</td>\n",
       "      <td>0.654845</td>\n",
       "      <td>0.728781</td>\n",
       "      <td>0.708254</td>\n",
       "    </tr>\n",
       "    <tr>\n",
       "      <td>2</td>\n",
       "      <td>0.552500</td>\n",
       "      <td>0.619119</td>\n",
       "      <td>0.758775</td>\n",
       "      <td>0.747783</td>\n",
       "    </tr>\n",
       "    <tr>\n",
       "      <td>3</td>\n",
       "      <td>0.405600</td>\n",
       "      <td>0.690740</td>\n",
       "      <td>0.768347</td>\n",
       "      <td>0.772120</td>\n",
       "    </tr>\n",
       "    <tr>\n",
       "      <td>4</td>\n",
       "      <td>0.261900</td>\n",
       "      <td>0.787181</td>\n",
       "      <td>0.762604</td>\n",
       "      <td>0.763215</td>\n",
       "    </tr>\n",
       "  </tbody>\n",
       "</table><p>"
      ],
      "text/plain": [
       "<IPython.core.display.HTML object>"
      ]
     },
     "metadata": {},
     "output_type": "display_data"
    },
    {
     "name": "stdout",
     "output_type": "stream",
     "text": [
      "Training roberta_model_2...\n"
     ]
    },
    {
     "name": "stderr",
     "output_type": "stream",
     "text": [
      "Some weights of RobertaForSequenceClassification were not initialized from the model checkpoint at roberta-base and are newly initialized: ['classifier.dense.bias', 'classifier.dense.weight', 'classifier.out_proj.bias', 'classifier.out_proj.weight']\n",
      "You should probably TRAIN this model on a down-stream task to be able to use it for predictions and inference.\n",
      "c:\\Users\\USERAS\\anaconda3\\envs\\resPy\\Lib\\site-packages\\transformers\\training_args.py:1575: FutureWarning: `evaluation_strategy` is deprecated and will be removed in version 4.46 of 🤗 Transformers. Use `eval_strategy` instead\n",
      "  warnings.warn(\n",
      "C:\\Users\\USERAS\\AppData\\Local\\Temp\\ipykernel_12460\\930621584.py:97: FutureWarning: `tokenizer` is deprecated and will be removed in version 5.0.0 for `Trainer.__init__`. Use `processing_class` instead.\n",
      "  trainer = Trainer(\n"
     ]
    },
    {
     "data": {
      "text/html": [
       "\n",
       "    <div>\n",
       "      \n",
       "      <progress value='7860' max='7860' style='width:300px; height:20px; vertical-align: middle;'></progress>\n",
       "      [7860/7860 38:46, Epoch 10/10]\n",
       "    </div>\n",
       "    <table border=\"1\" class=\"dataframe\">\n",
       "  <thead>\n",
       " <tr style=\"text-align: left;\">\n",
       "      <th>Epoch</th>\n",
       "      <th>Training Loss</th>\n",
       "      <th>Validation Loss</th>\n",
       "      <th>Accuracy</th>\n",
       "      <th>F1</th>\n",
       "    </tr>\n",
       "  </thead>\n",
       "  <tbody>\n",
       "    <tr>\n",
       "      <td>1</td>\n",
       "      <td>1.073900</td>\n",
       "      <td>1.064663</td>\n",
       "      <td>0.413529</td>\n",
       "      <td>0.308177</td>\n",
       "    </tr>\n",
       "    <tr>\n",
       "      <td>2</td>\n",
       "      <td>1.066400</td>\n",
       "      <td>1.066208</td>\n",
       "      <td>0.398213</td>\n",
       "      <td>0.227576</td>\n",
       "    </tr>\n",
       "    <tr>\n",
       "      <td>3</td>\n",
       "      <td>1.064900</td>\n",
       "      <td>1.056057</td>\n",
       "      <td>0.404595</td>\n",
       "      <td>0.275418</td>\n",
       "    </tr>\n",
       "    <tr>\n",
       "      <td>4</td>\n",
       "      <td>1.057500</td>\n",
       "      <td>1.049311</td>\n",
       "      <td>0.404595</td>\n",
       "      <td>0.286966</td>\n",
       "    </tr>\n",
       "    <tr>\n",
       "      <td>5</td>\n",
       "      <td>1.051300</td>\n",
       "      <td>1.043731</td>\n",
       "      <td>0.435227</td>\n",
       "      <td>0.406829</td>\n",
       "    </tr>\n",
       "    <tr>\n",
       "      <td>6</td>\n",
       "      <td>1.036200</td>\n",
       "      <td>0.977464</td>\n",
       "      <td>0.518188</td>\n",
       "      <td>0.479362</td>\n",
       "    </tr>\n",
       "    <tr>\n",
       "      <td>7</td>\n",
       "      <td>0.949200</td>\n",
       "      <td>0.933995</td>\n",
       "      <td>0.569241</td>\n",
       "      <td>0.546713</td>\n",
       "    </tr>\n",
       "    <tr>\n",
       "      <td>8</td>\n",
       "      <td>0.927700</td>\n",
       "      <td>0.908653</td>\n",
       "      <td>0.577537</td>\n",
       "      <td>0.553583</td>\n",
       "    </tr>\n",
       "    <tr>\n",
       "      <td>9</td>\n",
       "      <td>0.900300</td>\n",
       "      <td>0.904555</td>\n",
       "      <td>0.572431</td>\n",
       "      <td>0.560421</td>\n",
       "    </tr>\n",
       "    <tr>\n",
       "      <td>10</td>\n",
       "      <td>0.893300</td>\n",
       "      <td>0.910440</td>\n",
       "      <td>0.585195</td>\n",
       "      <td>0.561317</td>\n",
       "    </tr>\n",
       "  </tbody>\n",
       "</table><p>"
      ],
      "text/plain": [
       "<IPython.core.display.HTML object>"
      ]
     },
     "metadata": {},
     "output_type": "display_data"
    },
    {
     "name": "stdout",
     "output_type": "stream",
     "text": [
      "Training banglabert_model_3...\n"
     ]
    },
    {
     "name": "stderr",
     "output_type": "stream",
     "text": [
      "Some weights of ElectraForSequenceClassification were not initialized from the model checkpoint at csebuetnlp/banglabert and are newly initialized: ['classifier.dense.bias', 'classifier.dense.weight', 'classifier.out_proj.bias', 'classifier.out_proj.weight']\n",
      "You should probably TRAIN this model on a down-stream task to be able to use it for predictions and inference.\n",
      "c:\\Users\\USERAS\\anaconda3\\envs\\resPy\\Lib\\site-packages\\transformers\\training_args.py:1575: FutureWarning: `evaluation_strategy` is deprecated and will be removed in version 4.46 of 🤗 Transformers. Use `eval_strategy` instead\n",
      "  warnings.warn(\n",
      "C:\\Users\\USERAS\\AppData\\Local\\Temp\\ipykernel_12460\\930621584.py:97: FutureWarning: `tokenizer` is deprecated and will be removed in version 5.0.0 for `Trainer.__init__`. Use `processing_class` instead.\n",
      "  trainer = Trainer(\n"
     ]
    },
    {
     "data": {
      "text/html": [
       "\n",
       "    <div>\n",
       "      \n",
       "      <progress value='2358' max='7860' style='width:300px; height:20px; vertical-align: middle;'></progress>\n",
       "      [2358/7860 02:06 < 04:55, 18.65 it/s, Epoch 3/10]\n",
       "    </div>\n",
       "    <table border=\"1\" class=\"dataframe\">\n",
       "  <thead>\n",
       " <tr style=\"text-align: left;\">\n",
       "      <th>Epoch</th>\n",
       "      <th>Training Loss</th>\n",
       "      <th>Validation Loss</th>\n",
       "      <th>Accuracy</th>\n",
       "      <th>F1</th>\n",
       "    </tr>\n",
       "  </thead>\n",
       "  <tbody>\n",
       "    <tr>\n",
       "      <td>1</td>\n",
       "      <td>0.794400</td>\n",
       "      <td>0.644725</td>\n",
       "      <td>0.726867</td>\n",
       "      <td>0.712034</td>\n",
       "    </tr>\n",
       "    <tr>\n",
       "      <td>2</td>\n",
       "      <td>0.563100</td>\n",
       "      <td>0.648221</td>\n",
       "      <td>0.752393</td>\n",
       "      <td>0.741833</td>\n",
       "    </tr>\n",
       "    <tr>\n",
       "      <td>3</td>\n",
       "      <td>0.412800</td>\n",
       "      <td>0.705809</td>\n",
       "      <td>0.768985</td>\n",
       "      <td>0.769985</td>\n",
       "    </tr>\n",
       "  </tbody>\n",
       "</table><p>"
      ],
      "text/plain": [
       "<IPython.core.display.HTML object>"
      ]
     },
     "metadata": {},
     "output_type": "display_data"
    },
    {
     "name": "stderr",
     "output_type": "stream",
     "text": [
      "C:\\Users\\USERAS\\AppData\\Local\\Temp\\ipykernel_12460\\930621584.py:129: FutureWarning: `tokenizer` is deprecated and will be removed in version 5.0.0 for `Trainer.__init__`. Use `processing_class` instead.\n",
      "  trainer = Trainer(model=model, tokenizer=tokenizer)\n"
     ]
    },
    {
     "data": {
      "text/html": [],
      "text/plain": [
       "<IPython.core.display.HTML object>"
      ]
     },
     "metadata": {},
     "output_type": "display_data"
    },
    {
     "data": {
      "text/html": [],
      "text/plain": [
       "<IPython.core.display.HTML object>"
      ]
     },
     "metadata": {},
     "output_type": "display_data"
    },
    {
     "data": {
      "text/html": [],
      "text/plain": [
       "<IPython.core.display.HTML object>"
      ]
     },
     "metadata": {},
     "output_type": "display_data"
    },
    {
     "data": {
      "text/html": [],
      "text/plain": [
       "<IPython.core.display.HTML object>"
      ]
     },
     "metadata": {},
     "output_type": "display_data"
    },
    {
     "data": {
      "text/html": [],
      "text/plain": [
       "<IPython.core.display.HTML object>"
      ]
     },
     "metadata": {},
     "output_type": "display_data"
    },
    {
     "name": "stdout",
     "output_type": "stream",
     "text": [
      "\n",
      "✅ Ensemble Model Accuracy: 0.7579\n",
      "\n",
      "Classification Report:\n",
      "\n",
      "              precision    recall  f1-score   support\n",
      "\n",
      "     Neutral       0.62      0.43      0.51       361\n",
      "    Positive       0.79      0.86      0.82       654\n",
      "    Negative       0.78      0.84      0.81       571\n",
      "\n",
      "    accuracy                           0.76      1586\n",
      "   macro avg       0.73      0.71      0.71      1586\n",
      "weighted avg       0.75      0.76      0.75      1586\n",
      "\n"
     ]
    },
    {
     "data": {
      "image/png": "[encoded data removed]",
      "text/plain": [
       "<Figure size 800x600 with 2 Axes>"
      ]
     },
     "metadata": {},
     "output_type": "display_data"
    }
   ],
   "source": [
    "import pandas as pd\n",
    "import numpy as np\n",
    "import torch\n",
    "from datasets import Dataset, DatasetDict\n",
    "from transformers import (\n",
    "    AutoTokenizer, AutoModelForSequenceClassification, \n",
    "    Trainer, TrainingArguments, EarlyStoppingCallback\n",
    ")\n",
    "from sklearn.metrics import accuracy_score, classification_report, confusion_matrix, f1_score\n",
    "import matplotlib.pyplot as plt\n",
    "import seaborn as sns\n",
    "\n",
    "# Clear GPU cache\n",
    "torch.cuda.empty_cache()\n",
    "\n",
    "# Constants\n",
    "DATA_PATH = \"data/\"\n",
    "LABELS = [\"Neutral\", \"Positive\", \"Negative\"]\n",
    "LABEL2ID = {label: idx for idx, label in enumerate(LABELS)}\n",
    "DEVICE = torch.device('cuda' if torch.cuda.is_available() else 'cpu')\n",
    "\n",
    "# Model Names\n",
    "BERT_MODEL = 'csebuetnlp/banglabert'\n",
    "ROBERTA_MODEL = 'roberta-base'\n",
    "\n",
    "# Load datasets\n",
    "def load_and_preprocess(file_path):\n",
    "    df = pd.read_csv(file_path)\n",
    "    df = df.dropna()\n",
    "    df[\"Label\"] = df[\"Label\"].map({0: \"Neutral\", 1: \"Positive\", 2: \"Negative\"})\n",
    "    df = df.sample(frac=1, random_state=42).reset_index(drop=True)\n",
    "    return df\n",
    "\n",
    "train_df = load_and_preprocess(DATA_PATH + \"Train.csv\")\n",
    "val_df = load_and_preprocess(DATA_PATH + \"Val.csv\")\n",
    "test_df = load_and_preprocess(DATA_PATH + \"Test.csv\")\n",
    "\n",
    "# Convert to HuggingFace Dataset\n",
    "def convert_to_dataset(df):\n",
    "    dataset = Dataset.from_pandas(df[['Data', 'Label']].rename(columns={\"Data\": \"text\", \"Label\": \"label\"}))\n",
    "    return dataset\n",
    "\n",
    "dataset = DatasetDict({\n",
    "    \"train\": convert_to_dataset(train_df),\n",
    "    \"validation\": convert_to_dataset(val_df),\n",
    "    \"test\": convert_to_dataset(test_df),\n",
    "})\n",
    "\n",
    "# Encode labels numerically\n",
    "dataset = dataset.map(lambda batch: {\"label\": [LABEL2ID[label] for label in batch[\"label\"]]}, batched=True)\n",
    "\n",
    "# Load Tokenizers\n",
    "tokenizer_bert = AutoTokenizer.from_pretrained(BERT_MODEL)\n",
    "tokenizer_roberta = AutoTokenizer.from_pretrained(ROBERTA_MODEL)\n",
    "\n",
    "# Tokenization\n",
    "def tokenize(batch, tokenizer):\n",
    "    return tokenizer(batch[\"text\"], padding=\"max_length\", truncation=True)\n",
    "\n",
    "dataset_bert = dataset.map(lambda batch: tokenize(batch, tokenizer_bert), batched=True)\n",
    "dataset_roberta = dataset.map(lambda batch: tokenize(batch, tokenizer_roberta), batched=True)\n",
    "\n",
    "# Prepare datasets for training\n",
    "def prepare_dataset(dataset):\n",
    "    return dataset.remove_columns([\"text\"]).rename_column(\"label\", \"labels\").with_format(\"torch\")\n",
    "\n",
    "dataset_bert = prepare_dataset(dataset_bert)\n",
    "dataset_roberta = prepare_dataset(dataset_roberta)\n",
    "\n",
    "# Training function\n",
    "def train_model(model_name, tokenizer, dataset, output_dir, lr=2e-5, epochs=10):\n",
    "    model = AutoModelForSequenceClassification.from_pretrained(model_name, num_labels=len(LABELS)).to(DEVICE)\n",
    "\n",
    "    training_args = TrainingArguments(\n",
    "        output_dir=output_dir,\n",
    "        evaluation_strategy=\"epoch\",\n",
    "        learning_rate=lr,\n",
    "        per_device_train_batch_size=16,\n",
    "        per_device_eval_batch_size=16,\n",
    "        num_train_epochs=epochs,\n",
    "        weight_decay=0.01,\n",
    "        save_strategy=\"epoch\",\n",
    "        logging_dir=f\"./logs/{output_dir}\",\n",
    "        load_best_model_at_end=True,\n",
    "        metric_for_best_model=\"eval_loss\",\n",
    "        greater_is_better=False,\n",
    "        save_total_limit=2,\n",
    "    )\n",
    "\n",
    "    def compute_metrics(eval_pred):\n",
    "        preds = np.argmax(eval_pred.predictions, axis=1)\n",
    "        return {\n",
    "            \"accuracy\": accuracy_score(eval_pred.label_ids, preds),\n",
    "            \"f1\": f1_score(eval_pred.label_ids, preds, average=\"weighted\"),\n",
    "        }\n",
    "\n",
    "    trainer = Trainer(\n",
    "        model=model,\n",
    "        args=training_args,\n",
    "        train_dataset=dataset[\"train\"],\n",
    "        eval_dataset=dataset[\"validation\"],\n",
    "        tokenizer=tokenizer,\n",
    "        compute_metrics=compute_metrics,\n",
    "        callbacks=[EarlyStoppingCallback(early_stopping_patience=2)]\n",
    "    )\n",
    "\n",
    "    trainer.train()\n",
    "    return model\n",
    "\n",
    "# Train multiple models\n",
    "models_info = [\n",
    "    (BERT_MODEL, tokenizer_bert, dataset_bert, \"banglabert_model_1\"),\n",
    "    (ROBERTA_MODEL, tokenizer_roberta, dataset_roberta, \"roberta_model_1\"),\n",
    "    (BERT_MODEL, tokenizer_bert, dataset_bert, \"banglabert_model_2\"),\n",
    "    (ROBERTA_MODEL, tokenizer_roberta, dataset_roberta, \"roberta_model_2\"),\n",
    "    (BERT_MODEL, tokenizer_bert, dataset_bert, \"banglabert_model_3\"),\n",
    "]\n",
    "\n",
    "models = []\n",
    "for model_name, tokenizer, dataset, output_dir in models_info:\n",
    "    print(f\"Training {output_dir}...\")\n",
    "    model = train_model(model_name, tokenizer, dataset, output_dir)\n",
    "    models.append((model, tokenizer))\n",
    "\n",
    "# Ensemble Prediction\n",
    "def ensemble_predict(models, dataset):\n",
    "    preds_list = []\n",
    "    for model, tokenizer in models:\n",
    "        trainer = Trainer(model=model, tokenizer=tokenizer)\n",
    "        predictions = trainer.predict(dataset[\"test\"]).predictions\n",
    "        preds = torch.softmax(torch.tensor(predictions), dim=-1)\n",
    "        preds_list.append(preds)\n",
    "\n",
    "    avg_preds = torch.mean(torch.stack(preds_list), dim=0)\n",
    "    final_preds = torch.argmax(avg_preds, dim=1).numpy()\n",
    "    return final_preds\n",
    "\n",
    "# Make ensemble predictions\n",
    "ensemble_preds = ensemble_predict(models, dataset)\n",
    "\n",
    "# Evaluate\n",
    "true_labels = dataset[\"test\"][\"labels\"]\n",
    "accuracy = accuracy_score(true_labels, ensemble_preds)\n",
    "print(f\"\\n✅ Ensemble Model Accuracy: {accuracy:.4f}\\n\")\n",
    "\n",
    "# Classification report\n",
    "print(\"Classification Report:\\n\")\n",
    "print(classification_report(true_labels, ensemble_preds, target_names=LABELS))\n",
    "\n",
    "# Confusion Matrix\n",
    "conf_mat = confusion_matrix(true_labels, ensemble_preds)\n",
    "plt.figure(figsize=(8, 6))\n",
    "sns.heatmap(conf_mat, annot=True, fmt=\"d\", cmap=\"Blues\", xticklabels=LABELS, yticklabels=LABELS)\n",
    "plt.title(\"Confusion Matrix\")\n",
    "plt.xlabel(\"Predicted Labels\")\n",
    "plt.ylabel(\"True Labels\")\n",
    "plt.show()\n"
   ]
  }
 ],
 "metadata": {
  "kernelspec": {
   "display_name": "resPy",
   "language": "python",
   "name": "python3"
  },
  "language_info": {
   "codemirror_mode": {
    "name": "ipython",
    "version": 3
   },
   "file_extension": ".py",
   "mimetype": "text/x-python",
   "name": "python",
   "nbconvert_exporter": "python",
   "pygments_lexer": "ipython3",
   "version": "3.11.11"
  }
 },
 "nbformat": 4,
 "nbformat_minor": 5
}
