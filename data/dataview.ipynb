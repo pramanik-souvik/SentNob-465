{
 "cells": [
  {
   "cell_type": "code",
   "execution_count": 1,
   "metadata": {},
   "outputs": [
    {
     "name": "stdout",
     "output_type": "stream",
     "text": [
      "Training Data: \n",
      "                                                 Data  Label\n",
      "0  মুগ্ধ হয়ে গেলাম মামু. আর তোমায় কি কমু. বলো তোম...      1\n",
      "1  এই কুত্তার বাচ্চাদের জন্য দেশটা আজ এমন অবস্তায়...      2\n",
      "2                          ভাই আপনার কথাই যাদু রয়েছে      1\n",
      "3                        উওরটা আমার অনেক ভাল লেগেছে       1\n",
      "4  আমার নিজের গাড়ী নিয়ে কি সাজেক যেতে পারবো না ?...      0\n",
      "Testing Data: \n",
      "                                                 Data  Label\n",
      "0  স্বাস্থ্যবান হতে চাই , আমি বয়সের তুলনায় অনেক ব...      0\n",
      "1                        ভাইয়া নতুন ভিডিও আসে না কেন      0\n",
      "2        সৌরভ গাঙ্গুলী ছাড়া দাদাগিরি কখনো জমে উঠত না      0\n",
      "3  ক্রিকেট কে বাচাতে হলে পাপকে অতিশিগ্রিই তাকেও গ...      2\n",
      "4                          আমিতো সেই ঝালপ্রিয়ো মানুষ      1\n",
      "Validating Data: \n",
      "                                                 Data  Label\n",
      "0       আর আমার খুবেই আনন্দ লাকছে ভাইটি চাকরি পেয়েছে      1\n",
      "1  ভাই আমাদের আগের মেয়র আনিচুল হক নাই যে আমাদের ক...      2\n",
      "2  আমি মার্ক ওয়েন আর সনির বিশাল ভক্ত । একটা সময় ভ...      1\n",
      "3            ৩ মাস না যেতেই একেকজন ফুলে ফেপে আলুর দম      2\n",
      "4  বাংলাদেশের পুলিশ হলো নিরীহ মানুষের যম , আর অত্...      2\n"
     ]
    }
   ],
   "source": [
    "import pandas as pd\n",
    "\n",
    "train_df = pd.read_csv(\"data/Train.csv\")\n",
    "test_df = pd.read_csv(\"data/Test.csv\")\n",
    "val_df = pd.read_csv(\"data/Val.csv\")\n",
    "\n",
    "print(f\"Training Data: \\n {train_df.head()}\")\n",
    "print(f\"Testing Data: \\n {test_df.head()}\")\n",
    "print(f\"Validating Data: \\n {val_df.head()}\")"
   ]
  },
  {
   "cell_type": "code",
   "execution_count": 2,
   "metadata": {},
   "outputs": [
    {
     "name": "stdout",
     "output_type": "stream",
     "text": [
      "(12575, 2)\n",
      "(1586, 2)\n",
      "(1567, 2)\n"
     ]
    }
   ],
   "source": [
    "print(train_df.shape)\n",
    "print(test_df.shape)\n",
    "print(val_df.shape)"
   ]
  }
 ],
 "metadata": {
  "kernelspec": {
   "display_name": "resPy",
   "language": "python",
   "name": "python3"
  },
  "language_info": {
   "codemirror_mode": {
    "name": "ipython",
    "version": 3
   },
   "file_extension": ".py",
   "mimetype": "text/x-python",
   "name": "python",
   "nbconvert_exporter": "python",
   "pygments_lexer": "ipython3",
   "version": "3.11.11"
  }
 },
 "nbformat": 4,
 "nbformat_minor": 2
}
